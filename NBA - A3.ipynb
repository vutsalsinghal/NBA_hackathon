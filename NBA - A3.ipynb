{
 "cells": [
  {
   "cell_type": "markdown",
   "metadata": {
    "ExecuteTime": {
     "end_time": "2017-08-02T09:13:25.154034Z",
     "start_time": "2017-08-02T09:13:25.133215Z"
    }
   },
   "source": [
    "# NBA 2017 [Hackathon](https://hackathon.nba.com/)\n",
    "---\n",
    "\n",
    "## Question\n",
    "\n",
    "You should use the data provided in this [LINK](https://ak-static-int.nba.com/wp-content/uploads/sites/2/2017/06/Business-Track-Application-Datasets.xlsx). Suppose you are given a sample data set of 1,000 individuals that includes their last twelve months’ worth of total revenue spend, games watched, income, fan satisfaction (self-reported, 1 to 7, 7 is best), logged complaints and number of years in our database at present (in the Training Data tab). You intend to predict spend metrics for another data set of 100 people whose revenue spend is unknown (in the Prediction tab). Construct a model for 1) A projected twelve-month total revenue sepnd number 2) The probability that total revenue spend is at least $250. Run each of the accounts in the prediction tab through both models and fill in your results in 1) the TotRevSpend column on the Prediction tab and in 2) the LikelihoodOver250 column on the Prediction tab."
   ]
  },
  {
   "cell_type": "code",
   "execution_count": 1,
   "metadata": {
    "ExecuteTime": {
     "end_time": "2017-08-05T13:18:29.301734Z",
     "start_time": "2017-08-05T13:18:23.382413Z"
    }
   },
   "outputs": [
    {
     "name": "stdout",
     "output_type": "stream",
     "text": [
      "Vutsal Singhal\n",
      "last updated: Sat Aug 05 2017 18:48:23 IST\n",
      "numpy 1.13.0\n",
      "sklearn 0.18.2\n",
      "matplotlib 2.0.2\n",
      "pandas 0.20.3\n",
      "seaborn 0.8.0\n",
      "compiler   : GCC 5.4.0 20160609\n",
      "system     : Linux\n",
      "release    : 4.10.0-30-generic\n",
      "machine    : x86_64\n",
      "processor  : x86_64\n",
      "CPU cores  : 8\n",
      "interpreter: 64bit\n"
     ]
    }
   ],
   "source": [
    "#Metadata\n",
    "%load_ext watermark\n",
    "%watermark -a \"Vutsal Singhal\"\n",
    "%watermark -u -n -t -z\n",
    "%watermark -p numpy,sklearn,matplotlib,pandas,seaborn\n",
    "%watermark -m"
   ]
  },
  {
   "cell_type": "markdown",
   "metadata": {},
   "source": [
    "## Loding Libraries"
   ]
  },
  {
   "cell_type": "code",
   "execution_count": 2,
   "metadata": {
    "ExecuteTime": {
     "end_time": "2017-08-05T13:18:29.822395Z",
     "start_time": "2017-08-05T13:18:29.311182Z"
    },
    "scrolled": true
   },
   "outputs": [
    {
     "data": {
      "text/html": [
       "<div>\n",
       "<style>\n",
       "    .dataframe thead tr:only-child th {\n",
       "        text-align: right;\n",
       "    }\n",
       "\n",
       "    .dataframe thead th {\n",
       "        text-align: left;\n",
       "    }\n",
       "\n",
       "    .dataframe tbody tr th {\n",
       "        vertical-align: top;\n",
       "    }\n",
       "</style>\n",
       "<table border=\"1\" class=\"dataframe\">\n",
       "  <thead>\n",
       "    <tr style=\"text-align: right;\">\n",
       "      <th></th>\n",
       "      <th>TotRevSpend</th>\n",
       "      <th>DistToArena</th>\n",
       "      <th>GamesWatched</th>\n",
       "      <th>Income</th>\n",
       "      <th>FanSatisfaction</th>\n",
       "      <th>YrsInDatabase</th>\n",
       "      <th>FanComplaints</th>\n",
       "    </tr>\n",
       "  </thead>\n",
       "  <tbody>\n",
       "    <tr>\n",
       "      <th>0</th>\n",
       "      <td>590</td>\n",
       "      <td>8</td>\n",
       "      <td>17</td>\n",
       "      <td>140610</td>\n",
       "      <td>7</td>\n",
       "      <td>9</td>\n",
       "      <td>1</td>\n",
       "    </tr>\n",
       "    <tr>\n",
       "      <th>1</th>\n",
       "      <td>122</td>\n",
       "      <td>73</td>\n",
       "      <td>9</td>\n",
       "      <td>83976</td>\n",
       "      <td>1</td>\n",
       "      <td>9</td>\n",
       "      <td>3</td>\n",
       "    </tr>\n",
       "    <tr>\n",
       "      <th>2</th>\n",
       "      <td>772</td>\n",
       "      <td>8</td>\n",
       "      <td>12</td>\n",
       "      <td>244366</td>\n",
       "      <td>6</td>\n",
       "      <td>15</td>\n",
       "      <td>0</td>\n",
       "    </tr>\n",
       "    <tr>\n",
       "      <th>3</th>\n",
       "      <td>910</td>\n",
       "      <td>22</td>\n",
       "      <td>10</td>\n",
       "      <td>203798</td>\n",
       "      <td>2</td>\n",
       "      <td>9</td>\n",
       "      <td>4</td>\n",
       "    </tr>\n",
       "    <tr>\n",
       "      <th>4</th>\n",
       "      <td>936</td>\n",
       "      <td>2</td>\n",
       "      <td>37</td>\n",
       "      <td>34955</td>\n",
       "      <td>5</td>\n",
       "      <td>20</td>\n",
       "      <td>0</td>\n",
       "    </tr>\n",
       "  </tbody>\n",
       "</table>\n",
       "</div>"
      ],
      "text/plain": [
       "   TotRevSpend  DistToArena  GamesWatched  Income  FanSatisfaction  \\\n",
       "0          590            8            17  140610                7   \n",
       "1          122           73             9   83976                1   \n",
       "2          772            8            12  244366                6   \n",
       "3          910           22            10  203798                2   \n",
       "4          936            2            37   34955                5   \n",
       "\n",
       "   YrsInDatabase  FanComplaints  \n",
       "0              9              1  \n",
       "1              9              3  \n",
       "2             15              0  \n",
       "3              9              4  \n",
       "4             20              0  "
      ]
     },
     "execution_count": 2,
     "metadata": {},
     "output_type": "execute_result"
    }
   ],
   "source": [
    "import numpy as np\n",
    "import pandas as pd\n",
    "import matplotlib.pyplot as plt\n",
    "\n",
    "sheet1 = pd.read_excel(\"Business-Track-Application-Datasets.xlsx\", \"Training Data\")\n",
    "sheet1 = sheet1.iloc[:,1:]\n",
    "sheet1.head()"
   ]
  },
  {
   "cell_type": "markdown",
   "metadata": {},
   "source": [
    "## Data Exploration"
   ]
  },
  {
   "cell_type": "code",
   "execution_count": 3,
   "metadata": {
    "ExecuteTime": {
     "end_time": "2017-08-05T13:18:35.414523Z",
     "start_time": "2017-08-05T13:18:35.280445Z"
    }
   },
   "outputs": [
    {
     "data": {
      "text/html": [
       "<div>\n",
       "<style>\n",
       "    .dataframe thead tr:only-child th {\n",
       "        text-align: right;\n",
       "    }\n",
       "\n",
       "    .dataframe thead th {\n",
       "        text-align: left;\n",
       "    }\n",
       "\n",
       "    .dataframe tbody tr th {\n",
       "        vertical-align: top;\n",
       "    }\n",
       "</style>\n",
       "<table border=\"1\" class=\"dataframe\">\n",
       "  <thead>\n",
       "    <tr style=\"text-align: right;\">\n",
       "      <th></th>\n",
       "      <th>TotRevSpend</th>\n",
       "      <th>DistToArena</th>\n",
       "      <th>GamesWatched</th>\n",
       "      <th>Income</th>\n",
       "      <th>FanSatisfaction</th>\n",
       "      <th>YrsInDatabase</th>\n",
       "      <th>FanComplaints</th>\n",
       "    </tr>\n",
       "  </thead>\n",
       "  <tbody>\n",
       "    <tr>\n",
       "      <th>count</th>\n",
       "      <td>1000.000000</td>\n",
       "      <td>1000.000000</td>\n",
       "      <td>1000.000000</td>\n",
       "      <td>1000.000000</td>\n",
       "      <td>1000.000000</td>\n",
       "      <td>1000.000000</td>\n",
       "      <td>1000.000000</td>\n",
       "    </tr>\n",
       "    <tr>\n",
       "      <th>mean</th>\n",
       "      <td>484.661000</td>\n",
       "      <td>451.132000</td>\n",
       "      <td>23.358000</td>\n",
       "      <td>108883.379000</td>\n",
       "      <td>2.954000</td>\n",
       "      <td>9.060000</td>\n",
       "      <td>6.061000</td>\n",
       "    </tr>\n",
       "    <tr>\n",
       "      <th>std</th>\n",
       "      <td>295.712973</td>\n",
       "      <td>242.659354</td>\n",
       "      <td>11.610712</td>\n",
       "      <td>51680.749719</td>\n",
       "      <td>1.555089</td>\n",
       "      <td>4.498515</td>\n",
       "      <td>6.259909</td>\n",
       "    </tr>\n",
       "    <tr>\n",
       "      <th>min</th>\n",
       "      <td>0.000000</td>\n",
       "      <td>0.000000</td>\n",
       "      <td>0.000000</td>\n",
       "      <td>0.000000</td>\n",
       "      <td>0.000000</td>\n",
       "      <td>0.000000</td>\n",
       "      <td>0.000000</td>\n",
       "    </tr>\n",
       "    <tr>\n",
       "      <th>25%</th>\n",
       "      <td>233.000000</td>\n",
       "      <td>268.000000</td>\n",
       "      <td>14.000000</td>\n",
       "      <td>68192.750000</td>\n",
       "      <td>2.000000</td>\n",
       "      <td>6.000000</td>\n",
       "      <td>1.750000</td>\n",
       "    </tr>\n",
       "    <tr>\n",
       "      <th>50%</th>\n",
       "      <td>481.000000</td>\n",
       "      <td>468.500000</td>\n",
       "      <td>23.000000</td>\n",
       "      <td>111185.000000</td>\n",
       "      <td>3.000000</td>\n",
       "      <td>9.000000</td>\n",
       "      <td>4.000000</td>\n",
       "    </tr>\n",
       "    <tr>\n",
       "      <th>75%</th>\n",
       "      <td>741.500000</td>\n",
       "      <td>626.500000</td>\n",
       "      <td>33.000000</td>\n",
       "      <td>148422.000000</td>\n",
       "      <td>4.000000</td>\n",
       "      <td>13.000000</td>\n",
       "      <td>8.000000</td>\n",
       "    </tr>\n",
       "    <tr>\n",
       "      <th>max</th>\n",
       "      <td>999.000000</td>\n",
       "      <td>1000.000000</td>\n",
       "      <td>49.000000</td>\n",
       "      <td>244366.000000</td>\n",
       "      <td>7.000000</td>\n",
       "      <td>20.000000</td>\n",
       "      <td>27.000000</td>\n",
       "    </tr>\n",
       "  </tbody>\n",
       "</table>\n",
       "</div>"
      ],
      "text/plain": [
       "       TotRevSpend  DistToArena  GamesWatched         Income  FanSatisfaction  \\\n",
       "count  1000.000000  1000.000000   1000.000000    1000.000000      1000.000000   \n",
       "mean    484.661000   451.132000     23.358000  108883.379000         2.954000   \n",
       "std     295.712973   242.659354     11.610712   51680.749719         1.555089   \n",
       "min       0.000000     0.000000      0.000000       0.000000         0.000000   \n",
       "25%     233.000000   268.000000     14.000000   68192.750000         2.000000   \n",
       "50%     481.000000   468.500000     23.000000  111185.000000         3.000000   \n",
       "75%     741.500000   626.500000     33.000000  148422.000000         4.000000   \n",
       "max     999.000000  1000.000000     49.000000  244366.000000         7.000000   \n",
       "\n",
       "       YrsInDatabase  FanComplaints  \n",
       "count    1000.000000    1000.000000  \n",
       "mean        9.060000       6.061000  \n",
       "std         4.498515       6.259909  \n",
       "min         0.000000       0.000000  \n",
       "25%         6.000000       1.750000  \n",
       "50%         9.000000       4.000000  \n",
       "75%        13.000000       8.000000  \n",
       "max        20.000000      27.000000  "
      ]
     },
     "execution_count": 3,
     "metadata": {},
     "output_type": "execute_result"
    }
   ],
   "source": [
    "sheet1.describe()"
   ]
  },
  {
   "cell_type": "markdown",
   "metadata": {},
   "source": [
    "### Correlation Matrix"
   ]
  },
  {
   "cell_type": "code",
   "execution_count": 4,
   "metadata": {
    "ExecuteTime": {
     "end_time": "2017-08-05T13:18:38.722915Z",
     "start_time": "2017-08-05T13:18:38.689837Z"
    }
   },
   "outputs": [
    {
     "data": {
      "text/html": [
       "<div>\n",
       "<style>\n",
       "    .dataframe thead tr:only-child th {\n",
       "        text-align: right;\n",
       "    }\n",
       "\n",
       "    .dataframe thead th {\n",
       "        text-align: left;\n",
       "    }\n",
       "\n",
       "    .dataframe tbody tr th {\n",
       "        vertical-align: top;\n",
       "    }\n",
       "</style>\n",
       "<table border=\"1\" class=\"dataframe\">\n",
       "  <thead>\n",
       "    <tr style=\"text-align: right;\">\n",
       "      <th></th>\n",
       "      <th>TotRevSpend</th>\n",
       "      <th>DistToArena</th>\n",
       "      <th>GamesWatched</th>\n",
       "      <th>Income</th>\n",
       "      <th>FanSatisfaction</th>\n",
       "      <th>YrsInDatabase</th>\n",
       "      <th>FanComplaints</th>\n",
       "    </tr>\n",
       "  </thead>\n",
       "  <tbody>\n",
       "    <tr>\n",
       "      <th>TotRevSpend</th>\n",
       "      <td>1.000000</td>\n",
       "      <td>-0.573395</td>\n",
       "      <td>0.414540</td>\n",
       "      <td>0.374445</td>\n",
       "      <td>0.253758</td>\n",
       "      <td>0.459429</td>\n",
       "      <td>-0.190968</td>\n",
       "    </tr>\n",
       "    <tr>\n",
       "      <th>DistToArena</th>\n",
       "      <td>-0.573395</td>\n",
       "      <td>1.000000</td>\n",
       "      <td>-0.145751</td>\n",
       "      <td>-0.196725</td>\n",
       "      <td>-0.232739</td>\n",
       "      <td>-0.215945</td>\n",
       "      <td>0.172823</td>\n",
       "    </tr>\n",
       "    <tr>\n",
       "      <th>GamesWatched</th>\n",
       "      <td>0.414540</td>\n",
       "      <td>-0.145751</td>\n",
       "      <td>1.000000</td>\n",
       "      <td>0.184111</td>\n",
       "      <td>0.072042</td>\n",
       "      <td>0.196412</td>\n",
       "      <td>-0.036770</td>\n",
       "    </tr>\n",
       "    <tr>\n",
       "      <th>Income</th>\n",
       "      <td>0.374445</td>\n",
       "      <td>-0.196725</td>\n",
       "      <td>0.184111</td>\n",
       "      <td>1.000000</td>\n",
       "      <td>0.118460</td>\n",
       "      <td>0.180637</td>\n",
       "      <td>-0.082256</td>\n",
       "    </tr>\n",
       "    <tr>\n",
       "      <th>FanSatisfaction</th>\n",
       "      <td>0.253758</td>\n",
       "      <td>-0.232739</td>\n",
       "      <td>0.072042</td>\n",
       "      <td>0.118460</td>\n",
       "      <td>1.000000</td>\n",
       "      <td>0.104565</td>\n",
       "      <td>-0.649276</td>\n",
       "    </tr>\n",
       "    <tr>\n",
       "      <th>YrsInDatabase</th>\n",
       "      <td>0.459429</td>\n",
       "      <td>-0.215945</td>\n",
       "      <td>0.196412</td>\n",
       "      <td>0.180637</td>\n",
       "      <td>0.104565</td>\n",
       "      <td>1.000000</td>\n",
       "      <td>-0.103144</td>\n",
       "    </tr>\n",
       "    <tr>\n",
       "      <th>FanComplaints</th>\n",
       "      <td>-0.190968</td>\n",
       "      <td>0.172823</td>\n",
       "      <td>-0.036770</td>\n",
       "      <td>-0.082256</td>\n",
       "      <td>-0.649276</td>\n",
       "      <td>-0.103144</td>\n",
       "      <td>1.000000</td>\n",
       "    </tr>\n",
       "  </tbody>\n",
       "</table>\n",
       "</div>"
      ],
      "text/plain": [
       "                 TotRevSpend  DistToArena  GamesWatched    Income  \\\n",
       "TotRevSpend         1.000000    -0.573395      0.414540  0.374445   \n",
       "DistToArena        -0.573395     1.000000     -0.145751 -0.196725   \n",
       "GamesWatched        0.414540    -0.145751      1.000000  0.184111   \n",
       "Income              0.374445    -0.196725      0.184111  1.000000   \n",
       "FanSatisfaction     0.253758    -0.232739      0.072042  0.118460   \n",
       "YrsInDatabase       0.459429    -0.215945      0.196412  0.180637   \n",
       "FanComplaints      -0.190968     0.172823     -0.036770 -0.082256   \n",
       "\n",
       "                 FanSatisfaction  YrsInDatabase  FanComplaints  \n",
       "TotRevSpend             0.253758       0.459429      -0.190968  \n",
       "DistToArena            -0.232739      -0.215945       0.172823  \n",
       "GamesWatched            0.072042       0.196412      -0.036770  \n",
       "Income                  0.118460       0.180637      -0.082256  \n",
       "FanSatisfaction         1.000000       0.104565      -0.649276  \n",
       "YrsInDatabase           0.104565       1.000000      -0.103144  \n",
       "FanComplaints          -0.649276      -0.103144       1.000000  "
      ]
     },
     "execution_count": 4,
     "metadata": {},
     "output_type": "execute_result"
    }
   ],
   "source": [
    "sheet1.corr(method='pearson')"
   ]
  },
  {
   "cell_type": "code",
   "execution_count": 5,
   "metadata": {
    "ExecuteTime": {
     "end_time": "2017-08-05T13:18:41.377313Z",
     "start_time": "2017-08-05T13:18:40.641847Z"
    }
   },
   "outputs": [
    {
     "data": {
      "image/png": "[encoded data removed]",
      "text/plain": [
       "<matplotlib.figure.Figure at 0x7f531ce5dc50>"
      ]
     },
     "metadata": {},
     "output_type": "display_data"
    }
   ],
   "source": [
    "totRev = sheet1['TotRevSpend']\n",
    "income = sheet1['Income']\n",
    "\n",
    "features = list(sheet1)\n",
    "features.remove('TotRevSpend')\n",
    "\n",
    "for i in range(6):\n",
    "    plt.subplot(320+1+i)\n",
    "    plt.scatter(sheet1[features[i]], totRev)\n",
    "    plt.xlabel(features[i])\n",
    "    plt.ylabel('TotRevSpend')\n",
    "\n",
    "plt.tight_layout()\n",
    "plt.show()"
   ]
  },
  {
   "cell_type": "markdown",
   "metadata": {},
   "source": [
    "## Feature Selection\n",
    "Dropping columns having low impact"
   ]
  },
  {
   "cell_type": "code",
   "execution_count": 6,
   "metadata": {
    "ExecuteTime": {
     "end_time": "2017-08-05T13:18:43.202527Z",
     "start_time": "2017-08-05T13:18:43.191726Z"
    }
   },
   "outputs": [
    {
     "data": {
      "text/html": [
       "<div>\n",
       "<style>\n",
       "    .dataframe thead tr:only-child th {\n",
       "        text-align: right;\n",
       "    }\n",
       "\n",
       "    .dataframe thead th {\n",
       "        text-align: left;\n",
       "    }\n",
       "\n",
       "    .dataframe tbody tr th {\n",
       "        vertical-align: top;\n",
       "    }\n",
       "</style>\n",
       "<table border=\"1\" class=\"dataframe\">\n",
       "  <thead>\n",
       "    <tr style=\"text-align: right;\">\n",
       "      <th></th>\n",
       "      <th>TotRevSpend</th>\n",
       "      <th>DistToArena</th>\n",
       "      <th>GamesWatched</th>\n",
       "      <th>Income</th>\n",
       "      <th>YrsInDatabase</th>\n",
       "    </tr>\n",
       "  </thead>\n",
       "  <tbody>\n",
       "    <tr>\n",
       "      <th>0</th>\n",
       "      <td>590</td>\n",
       "      <td>8</td>\n",
       "      <td>17</td>\n",
       "      <td>140610</td>\n",
       "      <td>9</td>\n",
       "    </tr>\n",
       "    <tr>\n",
       "      <th>1</th>\n",
       "      <td>122</td>\n",
       "      <td>73</td>\n",
       "      <td>9</td>\n",
       "      <td>83976</td>\n",
       "      <td>9</td>\n",
       "    </tr>\n",
       "    <tr>\n",
       "      <th>2</th>\n",
       "      <td>772</td>\n",
       "      <td>8</td>\n",
       "      <td>12</td>\n",
       "      <td>244366</td>\n",
       "      <td>15</td>\n",
       "    </tr>\n",
       "    <tr>\n",
       "      <th>3</th>\n",
       "      <td>910</td>\n",
       "      <td>22</td>\n",
       "      <td>10</td>\n",
       "      <td>203798</td>\n",
       "      <td>9</td>\n",
       "    </tr>\n",
       "    <tr>\n",
       "      <th>4</th>\n",
       "      <td>936</td>\n",
       "      <td>2</td>\n",
       "      <td>37</td>\n",
       "      <td>34955</td>\n",
       "      <td>20</td>\n",
       "    </tr>\n",
       "  </tbody>\n",
       "</table>\n",
       "</div>"
      ],
      "text/plain": [
       "   TotRevSpend  DistToArena  GamesWatched  Income  YrsInDatabase\n",
       "0          590            8            17  140610              9\n",
       "1          122           73             9   83976              9\n",
       "2          772            8            12  244366             15\n",
       "3          910           22            10  203798              9\n",
       "4          936            2            37   34955             20"
      ]
     },
     "execution_count": 6,
     "metadata": {},
     "output_type": "execute_result"
    }
   ],
   "source": [
    "sheet1 = sheet1.drop('FanSatisfaction',1)\n",
    "sheet1 = sheet1.drop('FanComplaints',1)\n",
    "sheet1.head()"
   ]
  },
  {
   "cell_type": "markdown",
   "metadata": {},
   "source": [
    "## Data Distribution"
   ]
  },
  {
   "cell_type": "code",
   "execution_count": 7,
   "metadata": {
    "ExecuteTime": {
     "end_time": "2017-08-05T13:18:46.201527Z",
     "start_time": "2017-08-05T13:18:45.818261Z"
    },
    "collapsed": true
   },
   "outputs": [],
   "source": [
    "from sklearn.model_selection import train_test_split\n",
    "\n",
    "X, y = sheet1.iloc[:,1:], sheet1.iloc[:,0]\n",
    "X_train, X_test, y_train, y_test = train_test_split(X, y, test_size=0.3, random_state=42)"
   ]
  },
  {
   "cell_type": "code",
   "execution_count": 8,
   "metadata": {
    "ExecuteTime": {
     "end_time": "2017-08-05T13:18:46.651995Z",
     "start_time": "2017-08-05T13:18:46.638703Z"
    },
    "collapsed": true
   },
   "outputs": [],
   "source": [
    "#from sklearn.preprocessing import MinMaxScaler\n",
    "from sklearn.preprocessing import StandardScaler\n",
    "\n",
    "stdsc       = StandardScaler()\n",
    "X_train_std = stdsc.fit_transform(X_train)\n",
    "X_test_std  = stdsc.transform(X_test)"
   ]
  },
  {
   "cell_type": "code",
   "execution_count": 17,
   "metadata": {
    "ExecuteTime": {
     "end_time": "2017-08-05T13:28:33.219985Z",
     "start_time": "2017-08-05T13:28:33.200327Z"
    }
   },
   "outputs": [
    {
     "name": "stdout",
     "output_type": "stream",
     "text": [
      "Training accuracy: 0.564483971127\n",
      "Test accuracy: 0.542995338027\n"
     ]
    }
   ],
   "source": [
    "from sklearn import linear_model\n",
    "\n",
    "lr = linear_model.LinearRegression(n_jobs=6)\n",
    "lr.fit(X_train_std, y_train)\n",
    "\n",
    "print('Training accuracy:', lr.score(X_train_std, y_train))\n",
    "print('Test accuracy:', lr.score(X_test_std, y_test))"
   ]
  }
 ],
 "metadata": {
  "kernelspec": {
   "display_name": "Python 3",
   "language": "python",
   "name": "python3"
  },
  "language_info": {
   "codemirror_mode": {
    "name": "ipython",
    "version": 3
   },
   "file_extension": ".py",
   "mimetype": "text/x-python",
   "name": "python",
   "nbconvert_exporter": "python",
   "pygments_lexer": "ipython3",
   "version": "3.5.2"
  },
  "varInspector": {
   "cols": {
    "lenName": 16,
    "lenType": 16,
    "lenVar": 40
   },
   "kernels_config": {
    "python": {
     "delete_cmd_postfix": "",
     "delete_cmd_prefix": "del ",
     "library": "var_list.py",
     "varRefreshCmd": "print(var_dic_list())"
    },
    "r": {
     "delete_cmd_postfix": ") ",
     "delete_cmd_prefix": "rm(",
     "library": "var_list.r",
     "varRefreshCmd": "cat(var_dic_list()) "
    }
   },
   "types_to_exclude": [
    "module",
    "function",
    "builtin_function_or_method",
    "instance",
    "_Feature"
   ],
   "window_display": false
  }
 },
 "nbformat": 4,
 "nbformat_minor": 2
}
