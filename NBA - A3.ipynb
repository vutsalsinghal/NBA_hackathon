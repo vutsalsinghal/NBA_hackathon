{
 "cells": [
  {
   "cell_type": "markdown",
   "metadata": {},
   "source": [
    "# NBA 2017 [Hackathon](https://hackathon.nba.com/)"
   ]
  },
  {
   "cell_type": "markdown",
   "metadata": {
    "ExecuteTime": {
     "end_time": "2017-08-02T09:13:25.154034Z",
     "start_time": "2017-08-02T09:13:25.133215Z"
    }
   },
   "source": [
    "You should use the data provided in this [LINK](https://ak-static-int.nba.com/wp-content/uploads/sites/2/2017/06/Business-Track-Application-Datasets.xlsx). Suppose you are given a sample data set of 1,000 individuals that includes their last twelve months’ worth of total revenue spend, games watched, income, fan satisfaction (self-reported, 1 to 7, 7 is best), logged complaints and number of years in our database at present (in the Training Data tab). You intend to predict spend metrics for another data set of 100 people whose revenue spend is unknown (in the Prediction tab). Construct a model for 1) A projected twelve-month total revenue sepnd number 2) The probability that total revenue spend is at least $250. Run each of the accounts in the prediction tab through both models and fill in your results in 1) the TotRevSpend column on the Prediction tab and in 2) the LikelihoodOver250 column on the Prediction tab."
   ]
  },
  {
   "cell_type": "code",
   "execution_count": 3,
   "metadata": {
    "ExecuteTime": {
     "end_time": "2017-08-02T09:12:22.961469Z",
     "start_time": "2017-08-02T09:12:22.932167Z"
    }
   },
   "outputs": [
    {
     "name": "stdout",
     "output_type": "stream",
     "text": [
      "Vutsal Singhal\n",
      "last updated: Wed Aug 02 2017 14:42:22 IST\n",
      "numpy 1.13.0\n",
      "sklearn 0.18.2\n",
      "matplotlib 2.0.2\n",
      "pandas 0.20.3\n",
      "compiler   : GCC 5.4.0 20160609\n",
      "system     : Linux\n",
      "release    : 4.10.0-28-generic\n",
      "machine    : x86_64\n",
      "processor  : x86_64\n",
      "CPU cores  : 8\n",
      "interpreter: 64bit\n"
     ]
    }
   ],
   "source": [
    "#Metadata\n",
    "%load_ext watermark\n",
    "%watermark -a \"Vutsal Singhal\"\n",
    "%watermark -u -n -t -z\n",
    "%watermark -p numpy,sklearn,matplotlib,pandas\n",
    "%watermark -m"
   ]
  },
  {
   "cell_type": "code",
   "execution_count": 1,
   "metadata": {
    "ExecuteTime": {
     "end_time": "2017-08-02T09:25:25.832403Z",
     "start_time": "2017-08-02T09:25:25.349716Z"
    }
   },
   "outputs": [
    {
     "data": {
      "text/html": [
       "<div>\n",
       "<style>\n",
       "    .dataframe thead tr:only-child th {\n",
       "        text-align: right;\n",
       "    }\n",
       "\n",
       "    .dataframe thead th {\n",
       "        text-align: left;\n",
       "    }\n",
       "\n",
       "    .dataframe tbody tr th {\n",
       "        vertical-align: top;\n",
       "    }\n",
       "</style>\n",
       "<table border=\"1\" class=\"dataframe\">\n",
       "  <thead>\n",
       "    <tr style=\"text-align: right;\">\n",
       "      <th></th>\n",
       "      <th>Unnamed: 0</th>\n",
       "      <th>HomeTeam</th>\n",
       "      <th>Round1_Gate</th>\n",
       "      <th>Round2_Gate</th>\n",
       "      <th>Round3_Gate</th>\n",
       "      <th>Round4_Gate</th>\n",
       "    </tr>\n",
       "  </thead>\n",
       "  <tbody>\n",
       "    <tr>\n",
       "      <th>0</th>\n",
       "      <td>NaN</td>\n",
       "      <td>East1</td>\n",
       "      <td>2756446</td>\n",
       "      <td>3528250.88</td>\n",
       "      <td>5.574636e+06</td>\n",
       "      <td>8.417701e+06</td>\n",
       "    </tr>\n",
       "    <tr>\n",
       "      <th>1</th>\n",
       "      <td>NaN</td>\n",
       "      <td>East2</td>\n",
       "      <td>722126</td>\n",
       "      <td>888214.98</td>\n",
       "      <td>1.163562e+06</td>\n",
       "      <td>1.838427e+06</td>\n",
       "    </tr>\n",
       "    <tr>\n",
       "      <th>2</th>\n",
       "      <td>NaN</td>\n",
       "      <td>East3</td>\n",
       "      <td>642409</td>\n",
       "      <td>732346.26</td>\n",
       "      <td>1.230342e+06</td>\n",
       "      <td>2.079278e+06</td>\n",
       "    </tr>\n",
       "    <tr>\n",
       "      <th>3</th>\n",
       "      <td>NaN</td>\n",
       "      <td>East4</td>\n",
       "      <td>3232910</td>\n",
       "      <td>4558403.10</td>\n",
       "      <td>7.384613e+06</td>\n",
       "      <td>1.270153e+07</td>\n",
       "    </tr>\n",
       "    <tr>\n",
       "      <th>4</th>\n",
       "      <td>NaN</td>\n",
       "      <td>East5</td>\n",
       "      <td>1780942</td>\n",
       "      <td>2546747.06</td>\n",
       "      <td>3.845588e+06</td>\n",
       "      <td>6.152941e+06</td>\n",
       "    </tr>\n",
       "  </tbody>\n",
       "</table>\n",
       "</div>"
      ],
      "text/plain": [
       "   Unnamed: 0 HomeTeam  Round1_Gate  Round2_Gate   Round3_Gate   Round4_Gate\n",
       "0         NaN    East1      2756446   3528250.88  5.574636e+06  8.417701e+06\n",
       "1         NaN    East2       722126    888214.98  1.163562e+06  1.838427e+06\n",
       "2         NaN    East3       642409    732346.26  1.230342e+06  2.079278e+06\n",
       "3         NaN    East4      3232910   4558403.10  7.384613e+06  1.270153e+07\n",
       "4         NaN    East5      1780942   2546747.06  3.845588e+06  6.152941e+06"
      ]
     },
     "execution_count": 1,
     "metadata": {},
     "output_type": "execute_result"
    }
   ],
   "source": [
    "import pandas as pd\n",
    "import numpy as np\n",
    "df = pd.read_excel(\"Business-Track-Application-Datasets.xlsx\")\n",
    "df.head()"
   ]
  },
  {
   "cell_type": "code",
   "execution_count": null,
   "metadata": {
    "collapsed": true
   },
   "outputs": [],
   "source": []
  }
 ],
 "metadata": {
  "kernelspec": {
   "display_name": "Python 3",
   "language": "python",
   "name": "python3"
  },
  "language_info": {
   "codemirror_mode": {
    "name": "ipython",
    "version": 3
   },
   "file_extension": ".py",
   "mimetype": "text/x-python",
   "name": "python",
   "nbconvert_exporter": "python",
   "pygments_lexer": "ipython3",
   "version": "3.5.2"
  },
  "varInspector": {
   "cols": {
    "lenName": 16,
    "lenType": 16,
    "lenVar": 40
   },
   "kernels_config": {
    "python": {
     "delete_cmd_postfix": "",
     "delete_cmd_prefix": "del ",
     "library": "var_list.py",
     "varRefreshCmd": "print(var_dic_list())"
    },
    "r": {
     "delete_cmd_postfix": ") ",
     "delete_cmd_prefix": "rm(",
     "library": "var_list.r",
     "varRefreshCmd": "cat(var_dic_list()) "
    }
   },
   "types_to_exclude": [
    "module",
    "function",
    "builtin_function_or_method",
    "instance",
    "_Feature"
   ],
   "window_display": false
  }
 },
 "nbformat": 4,
 "nbformat_minor": 2
}
